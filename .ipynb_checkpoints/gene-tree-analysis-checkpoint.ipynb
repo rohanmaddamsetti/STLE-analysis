{
 "cells": [
  {
   "cell_type": "code",
   "execution_count": null,
   "metadata": {
    "collapsed": true
   },
   "outputs": [],
   "source": [
    "'''\n",
    "gene-tree-analysis.ipynb by Rohan Maddamsetti\n",
    "\n",
    "-test my synonymous genetic variation model using\n",
    "  experimental data.\n",
    "  Treat Clones and LCA as data, and K-12 as hidden\n",
    "  variable. How many gene trees have elongated branches, but same\n",
    "  topology? basic premise: if recombination + selection preserves the clonal frame of a\n",
    "                  gene, that should be sufficient to explain a lot of\n",
    "                  synonymous variation. How many genes have preserved\n",
    "   clonal frame? Do these genes have elongated branches but same\n",
    "   topology?\n",
    "\n",
    "How has bacterial recombination affected gene trees?\n",
    "\n",
    "the gene tree-lengths for non-synonymous (pN)\n",
    " and synonymous sites (pS)\n",
    " were estimated using CODEML from the PAML package (version 4.2)\n",
    "'''"
   ]
  },
  {
   "cell_type": "code",
   "execution_count": null,
   "metadata": {
    "collapsed": true
   },
   "outputs": [],
   "source": [
    "from Bio import SeqIO\n",
    "from subprocess import run\n",
    "import os\n",
    "import treeCl\n",
    "from treeCl.clustering import spectral, methods\n",
    "import pickle"
   ]
  },
  {
   "cell_type": "code",
   "execution_count": null,
   "metadata": {
    "collapsed": true
   },
   "outputs": [],
   "source": [
    "def get_reference_CDS(rel606path):\n",
    "    ''' get sequence, start and end of every CDS in REL606'''\n",
    "    gene_dict = {}\n",
    "    ref_genome = SeqIO.read(rel606path, \"genbank\")\n",
    "    for feature in ref_genome.features:\n",
    "        if feature.type != \"CDS\":\n",
    "            continue\n",
    "        try:\n",
    "            locus_tag = feature.qualifiers[\"locus_tag\"][0]\n",
    "        except:\n",
    "            continue\n",
    "        start = feature.location.start.position\n",
    "        end = feature.location.end.position\n",
    "        strand = feature.strand\n",
    "        sequence = ref_genome.seq[start:end]\n",
    "        gene_dict[locus_tag] = {'seq':sequence,'start':start,'end':end,'strand':strand}\n",
    "    return gene_dict"
   ]
  },
  {
   "cell_type": "code",
   "execution_count": null,
   "metadata": {
    "collapsed": true
   },
   "outputs": [],
   "source": [
    "def filter_for_SNPs(gddir,filterdir):\n",
    "    clone_files = [(x,os.path.join(gddir,x,\"output\",\"output.gd\")) for x in os.listdir(gddir) if 'RM3' in x]\n",
    "    for f_tup in clone_files:\n",
    "        outf = os.path.join(filterdir,f_tup[0]+'.gd')\n",
    "        outfh = open(outf,'w')\n",
    "        for line in open(f_tup[1]):\n",
    "            line = line.strip()\n",
    "            if line.startswith('#') or line.startswith('SNP'):\n",
    "                print(line,file=outfh)\n",
    "            else:\n",
    "                print('#'+line,file=outfh)"
   ]
  },
  {
   "cell_type": "code",
   "execution_count": null,
   "metadata": {
    "collapsed": true
   },
   "outputs": [],
   "source": [
    "def run_gdtools_apply(filterdir,ref_file, fastadir):\n",
    "    filtered_gds = [os.path.join(filterdir,x) for x in os.listdir(filterdir) if 'RM3' in x]\n",
    "    for f in filtered_gds:\n",
    "        outf = os.path.join(fastadir,os.path.basename(f))[:-3] + \".fasta\"\n",
    "        gdtools_args = ['gdtools', 'APPLY','-r', ref_file, '-o', outf, f]\n",
    "        print(' '.join(gdtools_args))\n",
    "        ## This step is slow. Only run if output doesn't already exist.\n",
    "        if not os.path.exists(outf):\n",
    "            run(gdtools_args)"
   ]
  },
  {
   "cell_type": "code",
   "execution_count": null,
   "metadata": {
    "collapsed": true
   },
   "outputs": [],
   "source": [
    "def make_gene_aln_inputs(fastadir,gdict,aln_indir):\n",
    "\n",
    "    fastadict = {}\n",
    "    for f in [x for x in os.listdir(fastadir) if x.endswith('.fasta')]:\n",
    "        fullf = os.path.join(fastadir,f)\n",
    "        ##print(fullf)\n",
    "        my_name = os.path.basename(fullf)[:-6]\n",
    "        x = SeqIO.read(fullf,\"fasta\").seq\n",
    "        fastadict[my_name] = x\n",
    "\n",
    "    for g in sorted(gdict):\n",
    "        start = gdict[g]['start']\n",
    "        end = gdict[g]['end']\n",
    "        strand = gdict[g]['strand']\n",
    "        my_outf = os.path.join(aln_indir,g+\".fasta\")\n",
    "        ## skip if the output file already exists.\n",
    "        if os.path.exists(my_outf):\n",
    "            continue\n",
    "        cur_gene_outf = open(my_outf,'w')\n",
    "        for f in fastadict:\n",
    "            print('>'+f,file=cur_gene_outf)\n",
    "            if strand == 1:\n",
    "                my_gene = fastadict[f][start:end]\n",
    "            elif strand == -1:\n",
    "                my_gene = fastadict[f][start:end].reverse_complement()\n",
    "            print(my_gene,file=cur_gene_outf)"
   ]
  },
  {
   "cell_type": "code",
   "execution_count": null,
   "metadata": {
    "collapsed": true
   },
   "outputs": [],
   "source": [
    "## if running on orchestra, module load breseq and source activate evcouplings_env.\n",
    "\n",
    "## assume script is called from STLE-analysis/src\n",
    "assert os.getcwd().endswith('/src')\n",
    "projdir = os.path.dirname(os.getcwd())\n",
    "\n",
    "ref_path = os.path.join(projdir,\"references/REL606.7.gbk\")"
   ]
  },
  {
   "cell_type": "code",
   "execution_count": null,
   "metadata": {
    "collapsed": true
   },
   "outputs": [],
   "source": [
    "## get start and end coordinates of REL606 genes.\n",
    "gdict = get_reference_CDS(ref_path)"
   ]
  },
  {
   "cell_type": "code",
   "execution_count": null,
   "metadata": {
    "collapsed": true
   },
   "outputs": [],
   "source": [
    "resultdir = os.path.join(projdir,'results/gene-tree-analysis')\n",
    "if not os.path.exists(resultdir):\n",
    "    os.makedirs(resultdir)\n",
    "\n",
    "gddir = os.path.join(projdir,\"breseq-assemblies/REL606-ref-runs/recombinants\")\n",
    "## CHEAP HACK: only allow SNP mutations, so that gdtools APPLY won't screw up the\n",
    "## frame and thus the genome coordinates. might fix later if results are promising."
   ]
  },
  {
   "cell_type": "code",
   "execution_count": null,
   "metadata": {
    "collapsed": true
   },
   "outputs": [],
   "source": [
    "filterdir = os.path.join(resultdir,\"filtered-gds\")\n",
    "if not os.path.exists(filterdir):\n",
    "    os.makedirs(filterdir)\n",
    "\n",
    "filter_for_SNPs(gddir,filterdir)"
   ]
  },
  {
   "cell_type": "code",
   "execution_count": null,
   "metadata": {
    "collapsed": true
   },
   "outputs": [],
   "source": [
    "fastadir = os.path.join(resultdir,'evolved-fasta')\n",
    "if not os.path.exists(fastadir):\n",
    "    os.makedirs(fastadir)\n",
    "run_gdtools_apply(filterdir,ref_path,fastadir)"
   ]
  },
  {
   "cell_type": "code",
   "execution_count": null,
   "metadata": {
    "collapsed": true
   },
   "outputs": [],
   "source": [
    "## write out gene sequences to file for alignment.\n",
    "\n",
    "aln_indir = os.path.join(resultdir,\"alninput\")\n",
    "if not os.path.exists(aln_indir):\n",
    "    os.makedirs(aln_indir)\n",
    "make_gene_aln_inputs(fastadir,gdict,aln_indir)"
   ]
  },
  {
   "cell_type": "code",
   "execution_count": null,
   "metadata": {
    "collapsed": true
   },
   "outputs": [],
   "source": [
    " '''\n",
    "Use TreeCl module to make and cluster trees. The following follows the\n",
    "TreeCl documentation on github.\n",
    "'''\n",
    "\n",
    "## trees are expensive to calculate. load cache results if possible.\n",
    "cachedir = os.path.join(projdir,'results/gene-tree-analysis/cache')\n",
    "if os.path.exists(cachedir):\n",
    "    c = treeCl.Collection(input_dir=aln_indir, param_dir=cachedir,file_format='fasta')\n",
    "else:\n",
    "    c = treeCl.Collection(input_dir=aln_indir, file_format='fasta')\n",
    "    ## use RAxML to calculate trees, default parameters.\n",
    "    c.calc_trees(executable='raxml')\n",
    "    ## write results to disk.\n",
    "    c.write_parameters(cachedir)"
   ]
  },
  {
   "cell_type": "code",
   "execution_count": null,
   "metadata": {
    "collapsed": true
   },
   "outputs": [],
   "source": [
    "## use the geodesic distance: uses both branch lengths and topology.\n",
    "## this is super expensive, so pickle.\n",
    "treedist_pickle_file = os.path.join(resultdir,\"treedist_pickle.p\")\n",
    "if os.path.exists(treedist_pickle_file):\n",
    "    dm = pickle.load(open(treedist_pickle_file, 'rb'))\n",
    "else:\n",
    "    dm = c.get_inter_tree_distances('geo')\n",
    "    ## with pure python code, it is better to use processpools to parallelise for speed\n",
    "    processes = treeCl.parutils.ProcesspoolJobHandler(8)\n",
    "    ## jobs are done in batches to reduce overhead.\n",
    "    dm = c.get_inter_tree_distances('geo',\n",
    "                                    jobhandler=processes,\n",
    "                                    batchsize=100)\n",
    "    pickle.dump(dm, open(treedist_pickle_file, 'wb'))"
   ]
  },
  {
   "cell_type": "code",
   "execution_count": null,
   "metadata": {
    "collapsed": true
   },
   "outputs": [],
   "source": [
    "## use Spectral clustering.\n",
    "spclust = tree.Cl.Spectral(dm)\n",
    "partition = spclust.cluster(3)\n",
    "# alternatives use kernel PCA and a Gaussian Mixture Model\n",
    "partition2 = spclust.cluster(3, algo=spectral.KPCA, method=methods.GMM)\n",
    "# Getting transformed coordinates\n",
    "spclust.spectral_embedding(2) # spectral embedding in 2 dimensions\n",
    "spclust.kpca_embedding(3) # kernel PCA embedding in 3 dimensions"
   ]
  },
  {
   "cell_type": "code",
   "execution_count": null,
   "metadata": {
    "collapsed": true
   },
   "outputs": [],
   "source": [
    "\"\"\"\n",
    "Score the result via likelihood\n",
    "\"\"\"\n",
    "raxml = treeCl.tasks.RaxmlTaskInterface()\n",
    "sc = treeCl.Scorer(c, cache_dir='scorer', task_interface=raxml)\n",
    "sc.write_partition(partition)\n",
    "results = sc.analyse_cache_dir(executable='raxml')"
   ]
  },
  {
   "cell_type": "code",
   "execution_count": null,
   "metadata": {
    "collapsed": true
   },
   "outputs": [],
   "source": [
    "\"\"\"\n",
    "Get the results\n",
    "\"\"\"\n",
    "## Get concatenated sequence alignments for each group\n",
    "##concats = [c.concatenate(grp) for grp in partition.get_membership()]\n",
    "##alignments = [conc.alignment for conc in concats]\n",
    "\n",
    "# Get a list of the loci in each group\n",
    "loci = sc.get_partition_memberships(partition)\n",
    "print(loci)\n",
    "# Get trees for each group\n",
    "trees = sc.get_partition_trees(partition)\n",
    "print(trees)\n",
    "# Get full model parameters for each group\n",
    "full_results = sc.get_partition_results(partition) # same as returned by analyse_cache_dir\n",
    "print(full_results)"
   ]
  }
 ],
 "metadata": {
  "anaconda-cloud": {},
  "kernelspec": {
   "display_name": "Python [default]",
   "language": "python",
   "name": "python3"
  },
  "language_info": {
   "codemirror_mode": {
    "name": "ipython",
    "version": 3
   },
   "file_extension": ".py",
   "mimetype": "text/x-python",
   "name": "python",
   "nbconvert_exporter": "python",
   "pygments_lexer": "ipython3",
   "version": "3.5.2"
  }
 },
 "nbformat": 4,
 "nbformat_minor": 0
}
